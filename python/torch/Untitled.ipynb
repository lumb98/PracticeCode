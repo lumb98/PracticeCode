{
 "cells": [
  {
   "cell_type": "code",
   "execution_count": 1,
   "id": "ed53b3e3",
   "metadata": {
    "ExecuteTime": {
     "end_time": "2022-12-08T13:29:05.275450Z",
     "start_time": "2022-12-08T13:29:05.260928Z"
    }
   },
   "outputs": [],
   "source": [
    "import torch"
   ]
  },
  {
   "cell_type": "code",
   "execution_count": 2,
   "id": "1d2b0709",
   "metadata": {
    "ExecuteTime": {
     "end_time": "2022-12-08T13:29:53.302593Z",
     "start_time": "2022-12-08T13:29:53.295077Z"
    }
   },
   "outputs": [
    {
     "data": {
      "text/plain": [
       "'torch.FloatTensor'"
      ]
     },
     "execution_count": 2,
     "metadata": {},
     "output_type": "execute_result"
    }
   ],
   "source": [
    "a=torch.randn(2,3)\n",
    "a.type()"
   ]
  },
  {
   "cell_type": "code",
   "execution_count": 3,
   "id": "c89646c2",
   "metadata": {
    "ExecuteTime": {
     "end_time": "2022-12-08T13:30:05.454997Z",
     "start_time": "2022-12-08T13:30:05.436442Z"
    }
   },
   "outputs": [
    {
     "data": {
      "text/plain": [
       "torch.Tensor"
      ]
     },
     "execution_count": 3,
     "metadata": {},
     "output_type": "execute_result"
    }
   ],
   "source": [
    "type(a)"
   ]
  },
  {
   "cell_type": "code",
   "execution_count": 4,
   "id": "f0fd03bf",
   "metadata": {
    "ExecuteTime": {
     "end_time": "2022-12-08T13:30:37.477519Z",
     "start_time": "2022-12-08T13:30:37.465971Z"
    }
   },
   "outputs": [
    {
     "data": {
      "text/plain": [
       "True"
      ]
     },
     "execution_count": 4,
     "metadata": {},
     "output_type": "execute_result"
    }
   ],
   "source": [
    "isinstance(a,torch.FloatTensor)"
   ]
  },
  {
   "cell_type": "code",
   "execution_count": 5,
   "id": "f612d15a",
   "metadata": {
    "ExecuteTime": {
     "end_time": "2022-12-08T13:49:07.665524Z",
     "start_time": "2022-12-08T13:49:07.650483Z"
    }
   },
   "outputs": [
    {
     "data": {
      "text/plain": [
       "False"
      ]
     },
     "execution_count": 5,
     "metadata": {},
     "output_type": "execute_result"
    }
   ],
   "source": [
    "data=torch.randn(10,10)\n",
    "isinstance(data,torch.cuda.FloatTensor)"
   ]
  },
  {
   "cell_type": "code",
   "execution_count": 6,
   "id": "017bfbba",
   "metadata": {
    "ExecuteTime": {
     "end_time": "2022-12-08T13:49:51.419279Z",
     "start_time": "2022-12-08T13:49:51.229158Z"
    }
   },
   "outputs": [
    {
     "data": {
      "text/plain": [
       "True"
      ]
     },
     "execution_count": 6,
     "metadata": {},
     "output_type": "execute_result"
    }
   ],
   "source": [
    "data=data.cuda()\n",
    "isinstance(data,torch.cuda.FloatTensor)"
   ]
  },
  {
   "cell_type": "code",
   "execution_count": null,
   "id": "0b4b7c6f",
   "metadata": {},
   "outputs": [],
   "source": []
  }
 ],
 "metadata": {
  "kernelspec": {
   "display_name": "Python 3.9.0 ('pytorch_py3.9')",
   "language": "python",
   "name": "python3"
  },
  "language_info": {
   "codemirror_mode": {
    "name": "ipython",
    "version": 3
   },
   "file_extension": ".py",
   "mimetype": "text/x-python",
   "name": "python",
   "nbconvert_exporter": "python",
   "pygments_lexer": "ipython3",
   "version": "3.9.0 (default, Nov 15 2020, 08:30:55) [MSC v.1916 64 bit (AMD64)]"
  },
  "vscode": {
   "interpreter": {
    "hash": "7f146e18ba53f74a03af9b0406c6ac00f6592912563981351e25d3b4260e6650"
   }
  }
 },
 "nbformat": 4,
 "nbformat_minor": 5
}
