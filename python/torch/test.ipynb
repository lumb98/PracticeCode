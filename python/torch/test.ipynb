{
 "cells": [
  {
   "cell_type": "code",
   "execution_count": 82,
   "id": "b638b894",
   "metadata": {},
   "outputs": [],
   "source": [
    "import torch\n",
    "import numpy as np"
   ]
  },
  {
   "cell_type": "code",
   "execution_count": 83,
   "id": "31216d71",
   "metadata": {},
   "outputs": [
    {
     "data": {
      "text/plain": [
       "True"
      ]
     },
     "execution_count": 83,
     "metadata": {},
     "output_type": "execute_result"
    }
   ],
   "source": [
    "torch.cuda.is_available()"
   ]
  },
  {
   "cell_type": "code",
   "execution_count": 84,
   "id": "403c4635",
   "metadata": {
    "ExecuteTime": {
     "end_time": "2022-11-29T02:30:56.736071Z",
     "start_time": "2022-11-29T02:30:55.613888Z"
    }
   },
   "outputs": [],
   "source": [
    "import numpy"
   ]
  },
  {
   "cell_type": "code",
   "execution_count": 85,
   "id": "76f51bae",
   "metadata": {
    "ExecuteTime": {
     "end_time": "2022-11-29T02:31:06.951333Z",
     "start_time": "2022-11-29T02:31:06.938321Z"
    }
   },
   "outputs": [
    {
     "name": "stdout",
     "output_type": "stream",
     "text": [
      "hello\n"
     ]
    }
   ],
   "source": [
    "print(\"hello\")"
   ]
  },
  {
   "cell_type": "code",
   "execution_count": 86,
   "id": "86938489",
   "metadata": {},
   "outputs": [],
   "source": [
    "a=torch.tensor(1.)\n"
   ]
  },
  {
   "cell_type": "code",
   "execution_count": 87,
   "id": "3b6a24b6",
   "metadata": {},
   "outputs": [
    {
     "data": {
      "text/plain": [
       "'torch.FloatTensor'"
      ]
     },
     "execution_count": 87,
     "metadata": {},
     "output_type": "execute_result"
    }
   ],
   "source": [
    "a.type()"
   ]
  },
  {
   "cell_type": "code",
   "execution_count": 88,
   "id": "f86197f9",
   "metadata": {},
   "outputs": [],
   "source": [
    "af=torch.tensor(1.3)\n",
    "#a.type()"
   ]
  },
  {
   "cell_type": "code",
   "execution_count": 89,
   "id": "6603b9e1",
   "metadata": {},
   "outputs": [],
   "source": [
    "aint=torch.tensor(1)\n",
    "#a.type()"
   ]
  },
  {
   "cell_type": "code",
   "execution_count": 90,
   "id": "c4924ce4",
   "metadata": {},
   "outputs": [
    {
     "data": {
      "text/plain": [
       "'torch.FloatTensor'"
      ]
     },
     "execution_count": 90,
     "metadata": {},
     "output_type": "execute_result"
    }
   ],
   "source": [
    "aint1d=torch.tensor([1])\n",
    "a.type()"
   ]
  },
  {
   "cell_type": "code",
   "execution_count": 91,
   "id": "1ecf635c",
   "metadata": {},
   "outputs": [
    {
     "data": {
      "text/plain": [
       "torch.Size([])"
      ]
     },
     "execution_count": 91,
     "metadata": {},
     "output_type": "execute_result"
    }
   ],
   "source": [
    "af.shape"
   ]
  },
  {
   "cell_type": "code",
   "execution_count": 92,
   "id": "39c30202",
   "metadata": {},
   "outputs": [
    {
     "data": {
      "text/plain": [
       "torch.Size([1])"
      ]
     },
     "execution_count": 92,
     "metadata": {},
     "output_type": "execute_result"
    }
   ],
   "source": [
    "aint1d.shape"
   ]
  },
  {
   "cell_type": "code",
   "execution_count": 93,
   "id": "8a6208b4",
   "metadata": {},
   "outputs": [
    {
     "data": {
      "text/plain": [
       "tensor([0.])"
      ]
     },
     "execution_count": 93,
     "metadata": {},
     "output_type": "execute_result"
    }
   ],
   "source": [
    "torch.FloatTensor(1)"
   ]
  },
  {
   "cell_type": "code",
   "execution_count": 94,
   "id": "0a30e51a",
   "metadata": {},
   "outputs": [
    {
     "data": {
      "text/plain": [
       "tensor([[0.0000e+00, 1.0010e-38],\n",
       "        [1.5695e-43, 4.5909e-41]])"
      ]
     },
     "execution_count": 94,
     "metadata": {},
     "output_type": "execute_result"
    }
   ],
   "source": [
    "torch.FloatTensor(2,2)"
   ]
  },
  {
   "cell_type": "code",
   "execution_count": 95,
   "id": "adbdd919",
   "metadata": {},
   "outputs": [],
   "source": [
    "data=np.ones(3)"
   ]
  },
  {
   "cell_type": "code",
   "execution_count": 96,
   "id": "863ad08d",
   "metadata": {},
   "outputs": [],
   "source": [
    "data=torch.from_numpy(data)"
   ]
  },
  {
   "cell_type": "code",
   "execution_count": 97,
   "id": "8715d74c",
   "metadata": {},
   "outputs": [
    {
     "data": {
      "text/plain": [
       "True"
      ]
     },
     "execution_count": 97,
     "metadata": {},
     "output_type": "execute_result"
    }
   ],
   "source": [
    "isinstance(data,torch.DoubleTensor)"
   ]
  },
  {
   "cell_type": "code",
   "execution_count": 98,
   "id": "03131ed2",
   "metadata": {},
   "outputs": [
    {
     "data": {
      "text/plain": [
       "'1.13.0'"
      ]
     },
     "execution_count": 98,
     "metadata": {},
     "output_type": "execute_result"
    }
   ],
   "source": [
    "torch.__version__"
   ]
  },
  {
   "cell_type": "code",
   "execution_count": 99,
   "id": "20821db0",
   "metadata": {},
   "outputs": [
    {
     "data": {
      "text/plain": [
       "tensor([[[[0.7112, 0.0248, 0.5733, 0.5413, 0.5492],\n",
       "          [0.5687, 0.6248, 0.0085, 0.7314, 0.0200],\n",
       "          [0.3079, 0.9239, 0.8813, 0.7154, 0.6942],\n",
       "          [0.9502, 0.5270, 0.6511, 0.2206, 0.8418]],\n",
       "\n",
       "         [[0.6448, 0.9899, 0.0493, 0.5478, 0.8221],\n",
       "          [0.8761, 0.2961, 0.6342, 0.8113, 0.0665],\n",
       "          [0.7153, 0.3752, 0.9047, 0.9096, 0.3869],\n",
       "          [0.1666, 0.2427, 0.9653, 0.6167, 0.9346]],\n",
       "\n",
       "         [[0.1006, 0.6248, 0.2751, 0.2998, 0.0758],\n",
       "          [0.9294, 0.3181, 0.2673, 0.1601, 0.9255],\n",
       "          [0.8039, 0.8013, 0.3860, 0.3713, 0.5360],\n",
       "          [0.6038, 0.9031, 0.3450, 0.9960, 0.3888]]],\n",
       "\n",
       "\n",
       "        [[[0.5472, 0.2931, 0.7985, 0.2799, 0.4096],\n",
       "          [0.5840, 0.7494, 0.7817, 0.6928, 0.9048],\n",
       "          [0.0445, 0.2644, 0.2395, 0.9452, 0.1636],\n",
       "          [0.0553, 0.5951, 0.0925, 0.0827, 0.9109]],\n",
       "\n",
       "         [[0.7898, 0.9365, 0.4080, 0.9648, 0.9008],\n",
       "          [0.9100, 0.0159, 0.4776, 0.7994, 0.1717],\n",
       "          [0.0603, 0.1396, 0.8510, 0.0938, 0.1166],\n",
       "          [0.4530, 0.0590, 0.0311, 0.7754, 0.2418]],\n",
       "\n",
       "         [[0.9731, 0.5743, 0.6104, 0.0290, 0.9198],\n",
       "          [0.8876, 0.9303, 0.9921, 0.9650, 0.8173],\n",
       "          [0.0779, 0.2273, 0.8167, 0.9142, 0.1556],\n",
       "          [0.5773, 0.0181, 0.0328, 0.6701, 0.3547]]]])"
      ]
     },
     "execution_count": 99,
     "metadata": {},
     "output_type": "execute_result"
    }
   ],
   "source": [
    "a=torch.rand(2,3,4,5)\n",
    "a"
   ]
  },
  {
   "cell_type": "code",
   "execution_count": 100,
   "id": "f77526b1",
   "metadata": {},
   "outputs": [
    {
     "data": {
      "text/plain": [
       "torch.Size([2, 3, 4, 5])"
      ]
     },
     "execution_count": 100,
     "metadata": {},
     "output_type": "execute_result"
    }
   ],
   "source": [
    "a.size()"
   ]
  },
  {
   "cell_type": "code",
   "execution_count": 101,
   "id": "428ba481",
   "metadata": {},
   "outputs": [
    {
     "data": {
      "text/plain": [
       "4"
      ]
     },
     "execution_count": 101,
     "metadata": {},
     "output_type": "execute_result"
    }
   ],
   "source": [
    "a.dim()"
   ]
  },
  {
   "cell_type": "code",
   "execution_count": 102,
   "id": "97761a84",
   "metadata": {},
   "outputs": [
    {
     "data": {
      "text/plain": [
       "120"
      ]
     },
     "execution_count": 102,
     "metadata": {},
     "output_type": "execute_result"
    }
   ],
   "source": [
    "a.numel()"
   ]
  },
  {
   "cell_type": "code",
   "execution_count": 103,
   "id": "db2d2fb2",
   "metadata": {},
   "outputs": [
    {
     "data": {
      "text/plain": [
       "0"
      ]
     },
     "execution_count": 103,
     "metadata": {},
     "output_type": "execute_result"
    }
   ],
   "source": [
    "a=torch.tensor(1)\n",
    "a.dim()"
   ]
  },
  {
   "attachments": {},
   "cell_type": "markdown",
   "id": "97fc2c91",
   "metadata": {},
   "source": [
    "# 创建tensor\n"
   ]
  },
  {
   "cell_type": "code",
   "execution_count": 104,
   "id": "50b5344c",
   "metadata": {},
   "outputs": [
    {
     "data": {
      "text/plain": [
       "tensor([2.0000, 3.3000], dtype=torch.float64)"
      ]
     },
     "execution_count": 104,
     "metadata": {},
     "output_type": "execute_result"
    }
   ],
   "source": [
    "a=np.array([2,3.3])\n",
    "torch.from_numpy(a)"
   ]
  },
  {
   "cell_type": "code",
   "execution_count": 105,
   "id": "5ef5a739",
   "metadata": {},
   "outputs": [
    {
     "data": {
      "text/plain": [
       "tensor([[1., 1., 1.],\n",
       "        [1., 1., 1.]], dtype=torch.float64)"
      ]
     },
     "execution_count": 105,
     "metadata": {},
     "output_type": "execute_result"
    }
   ],
   "source": [
    "a=np.ones([2,3])\n",
    "torch.from_numpy(a)"
   ]
  },
  {
   "cell_type": "code",
   "execution_count": 106,
   "id": "97afd59f",
   "metadata": {},
   "outputs": [
    {
     "data": {
      "text/plain": [
       "tensor([2, 3])"
      ]
     },
     "execution_count": 106,
     "metadata": {},
     "output_type": "execute_result"
    }
   ],
   "source": [
    "a=torch.tensor([2,3])\n",
    "a"
   ]
  },
  {
   "cell_type": "code",
   "execution_count": 107,
   "id": "fb7764a9",
   "metadata": {},
   "outputs": [
    {
     "data": {
      "text/plain": [
       "tensor([[4.3008e-05, 1.7079e-07, 8.3897e-07],\n",
       "        [2.1037e+23, 1.0385e+21, 6.6349e-10]])"
      ]
     },
     "execution_count": 107,
     "metadata": {},
     "output_type": "execute_result"
    }
   ],
   "source": [
    "a=torch.Tensor(2,3)\n",
    "a"
   ]
  },
  {
   "cell_type": "code",
   "execution_count": 108,
   "id": "0dddabb6",
   "metadata": {},
   "outputs": [
    {
     "data": {
      "text/plain": [
       "tensor([2., 3.])"
      ]
     },
     "execution_count": 108,
     "metadata": {},
     "output_type": "execute_result"
    }
   ],
   "source": [
    "a=torch.Tensor([2,3])\n",
    "a"
   ]
  },
  {
   "cell_type": "code",
   "execution_count": 109,
   "id": "bdfe10fb",
   "metadata": {},
   "outputs": [
    {
     "data": {
      "text/plain": [
       "tensor([0, 0, 0, 0, 0, 0, 0, 0, 0, 0])"
      ]
     },
     "execution_count": 109,
     "metadata": {},
     "output_type": "execute_result"
    }
   ],
   "source": [
    "torch.full([10],0)"
   ]
  },
  {
   "cell_type": "code",
   "execution_count": 110,
   "id": "2b195253",
   "metadata": {},
   "outputs": [
    {
     "data": {
      "text/plain": [
       "tensor([ 0.0000,  1.1111,  2.2222,  3.3333,  4.4444,  5.5556,  6.6667,  7.7778,\n",
       "         8.8889, 10.0000])"
      ]
     },
     "execution_count": 110,
     "metadata": {},
     "output_type": "execute_result"
    }
   ],
   "source": [
    "torch.linspace(0,10,steps=10)"
   ]
  },
  {
   "cell_type": "code",
   "execution_count": 111,
   "id": "c49337a4",
   "metadata": {},
   "outputs": [],
   "source": [
    "idx=torch.randperm(10)"
   ]
  },
  {
   "cell_type": "code",
   "execution_count": 112,
   "id": "efc20410",
   "metadata": {},
   "outputs": [
    {
     "data": {
      "text/plain": [
       "tensor([0, 2, 6, 4, 5, 7, 8, 1, 3, 9])"
      ]
     },
     "execution_count": 112,
     "metadata": {},
     "output_type": "execute_result"
    }
   ],
   "source": [
    "idx"
   ]
  },
  {
   "cell_type": "code",
   "execution_count": 113,
   "id": "4fefbe80",
   "metadata": {},
   "outputs": [
    {
     "data": {
      "text/plain": [
       "tensor([0, 2, 6, 4, 5, 7, 8, 1, 3, 9])"
      ]
     },
     "execution_count": 113,
     "metadata": {},
     "output_type": "execute_result"
    }
   ],
   "source": [
    "idx"
   ]
  },
  {
   "cell_type": "code",
   "execution_count": 114,
   "id": "e902b177",
   "metadata": {},
   "outputs": [
    {
     "data": {
      "text/plain": [
       "tensor([0, 2, 6, 4, 5, 7, 8, 1, 3, 9])"
      ]
     },
     "execution_count": 114,
     "metadata": {},
     "output_type": "execute_result"
    }
   ],
   "source": [
    "idx"
   ]
  },
  {
   "cell_type": "code",
   "execution_count": 115,
   "id": "8d7b741e",
   "metadata": {},
   "outputs": [
    {
     "data": {
      "text/plain": [
       "tensor([0, 2, 6, 4, 5, 7, 8, 1, 3, 9])"
      ]
     },
     "execution_count": 115,
     "metadata": {},
     "output_type": "execute_result"
    }
   ],
   "source": [
    "idx"
   ]
  },
  {
   "cell_type": "code",
   "execution_count": 116,
   "id": "250ce748",
   "metadata": {},
   "outputs": [],
   "source": [
    "a=torch.rand(4,3,28,28)#假设这是四张RGB的28*28的方形图片"
   ]
  },
  {
   "cell_type": "code",
   "execution_count": 117,
   "id": "499f1e6a",
   "metadata": {},
   "outputs": [
    {
     "data": {
      "text/plain": [
       "torch.Size([1, 4, 3, 28, 28])"
      ]
     },
     "execution_count": 117,
     "metadata": {},
     "output_type": "execute_result"
    }
   ],
   "source": [
    "a.unsqueeze(0).shape"
   ]
  },
  {
   "cell_type": "code",
   "execution_count": 118,
   "id": "0e7ecddb",
   "metadata": {},
   "outputs": [
    {
     "data": {
      "text/plain": [
       "torch.Size([1, 32, 1, 1])"
      ]
     },
     "execution_count": 118,
     "metadata": {},
     "output_type": "execute_result"
    }
   ],
   "source": [
    "b=torch.rand(32)\n",
    "f=torch.rand(4,32,14,14)\n",
    "b=b.unsqueeze(1).unsqueeze(2).unsqueeze(0)\n",
    "b.shape"
   ]
  },
  {
   "cell_type": "code",
   "execution_count": 119,
   "id": "82bc15c3",
   "metadata": {},
   "outputs": [
    {
     "name": "stdout",
     "output_type": "stream",
     "text": [
      "torch.Size([1, 3, 4])\n"
     ]
    },
    {
     "data": {
      "text/plain": [
       "torch.Size([1, 3, 4])"
      ]
     },
     "execution_count": 119,
     "metadata": {},
     "output_type": "execute_result"
    }
   ],
   "source": [
    "a=torch.rand(1,3,4)\n",
    "print(a.shape)\n",
    "a.squeeze(1).shape\n"
   ]
  },
  {
   "cell_type": "code",
   "execution_count": 120,
   "id": "733ac669",
   "metadata": {},
   "outputs": [],
   "source": [
    "a=torch.rand(2,3,4,5)\n",
    "#a.transpose(0,2).shape"
   ]
  },
  {
   "cell_type": "code",
   "execution_count": 121,
   "id": "4ce4f8f1",
   "metadata": {},
   "outputs": [
    {
     "name": "stdout",
     "output_type": "stream",
     "text": [
      "tensor([[[[True, True, True],\n",
      "          [True, True, True],\n",
      "          [True, True, True],\n",
      "          [True, True, True]],\n",
      "\n",
      "         [[True, True, True],\n",
      "          [True, True, True],\n",
      "          [True, True, True],\n",
      "          [True, True, True]],\n",
      "\n",
      "         [[True, True, True],\n",
      "          [True, True, True],\n",
      "          [True, True, True],\n",
      "          [True, True, True]],\n",
      "\n",
      "         [[True, True, True],\n",
      "          [True, True, True],\n",
      "          [True, True, True],\n",
      "          [True, True, True]],\n",
      "\n",
      "         [[True, True, True],\n",
      "          [True, True, True],\n",
      "          [True, True, True],\n",
      "          [True, True, True]]],\n",
      "\n",
      "\n",
      "        [[[True, True, True],\n",
      "          [True, True, True],\n",
      "          [True, True, True],\n",
      "          [True, True, True]],\n",
      "\n",
      "         [[True, True, True],\n",
      "          [True, True, True],\n",
      "          [True, True, True],\n",
      "          [True, True, True]],\n",
      "\n",
      "         [[True, True, True],\n",
      "          [True, True, True],\n",
      "          [True, True, True],\n",
      "          [True, True, True]],\n",
      "\n",
      "         [[True, True, True],\n",
      "          [True, True, True],\n",
      "          [True, True, True],\n",
      "          [True, True, True]],\n",
      "\n",
      "         [[True, True, True],\n",
      "          [True, True, True],\n",
      "          [True, True, True],\n",
      "          [True, True, True]]]])\n"
     ]
    },
    {
     "data": {
      "text/plain": [
       "tensor([[0.6312, 0.9933, 0.5377, 0.7318, 0.2078, 0.9710, 0.4384, 0.3013, 0.0733,\n",
       "         0.5086, 0.9573, 0.8278, 0.1410, 0.1290, 0.8233, 0.3483, 0.9665, 0.1124,\n",
       "         0.1324, 0.2083, 0.3420, 0.0353, 0.5046, 0.7499, 0.1562, 0.0253, 0.9208,\n",
       "         0.8289, 0.7581, 0.4521, 0.0626, 0.6262, 0.6359, 0.0854, 0.2416, 0.4477,\n",
       "         0.2993, 0.3170, 0.3876, 0.7347, 0.1205, 0.7537, 0.9399, 0.8445, 0.7295,\n",
       "         0.8310, 0.9431, 0.7039, 0.7438, 0.5922, 0.7551, 0.6958, 0.8935, 0.8494,\n",
       "         0.3067, 0.1384, 0.8347, 0.4362, 0.7398, 0.2751],\n",
       "        [0.7544, 0.6912, 0.2899, 0.0675, 0.4738, 0.6393, 0.6752, 0.9511, 0.0607,\n",
       "         0.6325, 0.1654, 0.3859, 0.2195, 0.0139, 0.7961, 0.2172, 0.5905, 0.1229,\n",
       "         0.8499, 0.8049, 0.1966, 0.4302, 0.7685, 0.4149, 0.2150, 0.0075, 0.1604,\n",
       "         0.2073, 0.9286, 0.6231, 0.3585, 0.1113, 0.4701, 0.3159, 0.1484, 0.1120,\n",
       "         0.1801, 0.0055, 0.5385, 0.1938, 0.3794, 0.9657, 0.6594, 0.9705, 0.6964,\n",
       "         0.8507, 0.7202, 0.4779, 0.4101, 0.5388, 0.2632, 0.9209, 0.9704, 0.0400,\n",
       "         0.5518, 0.6608, 0.3969, 0.9087, 0.6451, 0.7088]])"
      ]
     },
     "execution_count": 121,
     "metadata": {},
     "output_type": "execute_result"
    }
   ],
   "source": [
    "a1=a.transpose(1,3)\n",
    "#print(a1)\n",
    "a2=a1.contiguous()\n",
    "#print(\"contiguous\",a1)\n",
    "print(a2.eq(a1))\n",
    "a2.view(2,3*4*5)\n"
   ]
  },
  {
   "cell_type": "code",
   "execution_count": 122,
   "id": "f64a9097",
   "metadata": {},
   "outputs": [
    {
     "name": "stdout",
     "output_type": "stream",
     "text": [
      "tensor([[[[1., 1., 1., 1., 1.],\n",
      "          [1., 1., 1., 1., 1.],\n",
      "          [1., 1., 1., 1., 1.],\n",
      "          [1., 1., 1., 1., 1.]],\n",
      "\n",
      "         [[1., 1., 1., 1., 1.],\n",
      "          [1., 1., 1., 1., 1.],\n",
      "          [1., 1., 1., 1., 1.],\n",
      "          [1., 1., 1., 1., 1.]],\n",
      "\n",
      "         [[1., 1., 1., 1., 1.],\n",
      "          [1., 1., 1., 1., 1.],\n",
      "          [1., 1., 1., 1., 1.],\n",
      "          [1., 1., 1., 1., 1.]]],\n",
      "\n",
      "\n",
      "        [[[1., 1., 1., 1., 1.],\n",
      "          [1., 1., 1., 1., 1.],\n",
      "          [1., 1., 1., 1., 1.],\n",
      "          [1., 1., 1., 1., 1.]],\n",
      "\n",
      "         [[1., 1., 1., 1., 1.],\n",
      "          [1., 1., 1., 1., 1.],\n",
      "          [1., 1., 1., 1., 1.],\n",
      "          [1., 1., 1., 1., 1.]],\n",
      "\n",
      "         [[1., 1., 1., 1., 1.],\n",
      "          [1., 1., 1., 1., 1.],\n",
      "          [1., 1., 1., 1., 1.],\n",
      "          [1., 1., 1., 1., 1.]]]])\n"
     ]
    }
   ],
   "source": [
    "img1=torch.ones(2,3,4,5)\n",
    "print(img1)"
   ]
  },
  {
   "cell_type": "code",
   "execution_count": 123,
   "id": "9a2b89a5",
   "metadata": {},
   "outputs": [
    {
     "name": "stdout",
     "output_type": "stream",
     "text": [
      "tensor([[[[1.5242, 1.4444, 1.3333, 1.2222, 1.1111],\n",
      "          [1.5242, 1.4444, 1.3333, 1.2222, 1.1111],\n",
      "          [1.5242, 1.4444, 1.3333, 1.2222, 1.1111],\n",
      "          [1.5242, 1.4444, 1.3333, 1.2222, 1.1111]],\n",
      "\n",
      "         [[1.5242, 1.4444, 1.3333, 1.2222, 1.1111],\n",
      "          [1.5242, 1.4444, 1.3333, 1.2222, 1.1111],\n",
      "          [1.5242, 1.4444, 1.3333, 1.2222, 1.1111],\n",
      "          [1.5242, 1.4444, 1.3333, 1.2222, 1.1111]],\n",
      "\n",
      "         [[1.5242, 1.4444, 1.3333, 1.2222, 1.1111],\n",
      "          [1.5242, 1.4444, 1.3333, 1.2222, 1.1111],\n",
      "          [1.5242, 1.4444, 1.3333, 1.2222, 1.1111],\n",
      "          [1.5242, 1.4444, 1.3333, 1.2222, 1.1111]]],\n",
      "\n",
      "\n",
      "        [[[1.5242, 1.4444, 1.3333, 1.2222, 1.1111],\n",
      "          [1.5242, 1.4444, 1.3333, 1.2222, 1.1111],\n",
      "          [1.5242, 1.4444, 1.3333, 1.2222, 1.1111],\n",
      "          [1.5242, 1.4444, 1.3333, 1.2222, 1.1111]],\n",
      "\n",
      "         [[1.5242, 1.4444, 1.3333, 1.2222, 1.1111],\n",
      "          [1.5242, 1.4444, 1.3333, 1.2222, 1.1111],\n",
      "          [1.5242, 1.4444, 1.3333, 1.2222, 1.1111],\n",
      "          [1.5242, 1.4444, 1.3333, 1.2222, 1.1111]],\n",
      "\n",
      "         [[1.5242, 1.4444, 1.3333, 1.2222, 1.1111],\n",
      "          [1.5242, 1.4444, 1.3333, 1.2222, 1.1111],\n",
      "          [1.5242, 1.4444, 1.3333, 1.2222, 1.1111],\n",
      "          [1.5242, 1.4444, 1.3333, 1.2222, 1.1111]]]])\n"
     ]
    }
   ],
   "source": [
    "bis=torch.tensor([0.5242,0.4444,0.3333,0.22222,0.11111])\n",
    "img1=img1+bis\n",
    "print(img1)"
   ]
  },
  {
   "cell_type": "code",
   "execution_count": 124,
   "id": "9b964323",
   "metadata": {},
   "outputs": [
    {
     "name": "stdout",
     "output_type": "stream",
     "text": [
      "tensor([[ 0,  1,  2],\n",
      "        [10, 11, 12],\n",
      "        [20, 21, 22],\n",
      "        [30, 31, 32]])\n"
     ]
    }
   ],
   "source": [
    "a=torch.tensor([[0],[10],[20],[30]])\n",
    "b=torch.tensor([0,1,2])\n",
    "c=a+b\n",
    "print(c)"
   ]
  },
  {
   "cell_type": "code",
   "execution_count": 125,
   "id": "91c9367b",
   "metadata": {},
   "outputs": [
    {
     "data": {
      "text/plain": [
       "torch.Size([9, 3, 32, 32])"
      ]
     },
     "execution_count": 125,
     "metadata": {},
     "output_type": "execute_result"
    }
   ],
   "source": [
    "a1=torch.rand(4,3,32,32)\n",
    "a2=torch.rand(5,3,32,32)\n",
    "torch.cat([a1,a2],dim=0).shape#从第0个维度将a1和a2两个tensor进行拼接\n",
    "#out:torch.Size([9, 3, 32, 32])"
   ]
  },
  {
   "cell_type": "code",
   "execution_count": 126,
   "id": "1cff47b6",
   "metadata": {},
   "outputs": [
    {
     "data": {
      "text/plain": [
       "torch.Size([4, 3, 2, 32, 32])"
      ]
     },
     "execution_count": 126,
     "metadata": {},
     "output_type": "execute_result"
    }
   ],
   "source": [
    "a1=torch.ones(4,3,32,32)\n",
    "a2=torch.zeros(4,3,32,32)\n",
    "torch.stack([a1,a2],dim=2).shape#在第2维度处创建一个新的维度，将a1和a2在的第2维度进行堆叠，即[:,:,0,...]就是a1全为1，[:,:,1,...]则为a2全为0\n",
    "#a3[:,:,1,...]"
   ]
  },
  {
   "cell_type": "code",
   "execution_count": 127,
   "id": "13ea9f31",
   "metadata": {},
   "outputs": [
    {
     "data": {
      "text/plain": [
       "torch.Size([2, 4, 3])"
      ]
     },
     "execution_count": 127,
     "metadata": {},
     "output_type": "execute_result"
    }
   ],
   "source": [
    "a1=torch.ones(4,3)\n",
    "a2=torch.zeros(4,3)\n",
    "torch.stack([a1,a2],dim=0).shape"
   ]
  },
  {
   "cell_type": "code",
   "execution_count": 128,
   "id": "6d479bf7",
   "metadata": {},
   "outputs": [
    {
     "name": "stdout",
     "output_type": "stream",
     "text": [
      "tensor([[[1., 1., 1.],\n",
      "         [1., 1., 1.],\n",
      "         [1., 1., 1.],\n",
      "         [1., 1., 1.]]])\n",
      "tensor([[[0., 0., 0.],\n",
      "         [0., 0., 0.],\n",
      "         [0., 0., 0.],\n",
      "         [0., 0., 0.]]])\n",
      "tensor([[[1., 0., 0.],\n",
      "         [0., 1., 0.],\n",
      "         [0., 0., 1.],\n",
      "         [0., 0., 0.]]])\n"
     ]
    },
    {
     "data": {
      "text/plain": [
       "(None, None, None)"
      ]
     },
     "execution_count": 128,
     "metadata": {},
     "output_type": "execute_result"
    }
   ],
   "source": [
    "a3=torch.eye(4,3)\n",
    "a=torch.stack([a1,a2,a3],dim=0)\n",
    "\n",
    "b1,b2,b3=a.split(1,dim=0)\n",
    "# print(b1)\n",
    "# print(b2)\n",
    "# print(b3)\n",
    "\n",
    "b1,b2,b3=a.chunk(3,dim=0)\n",
    "print(b1),print(b2),print(b3)"
   ]
  },
  {
   "cell_type": "code",
   "execution_count": 129,
   "id": "6d12e978",
   "metadata": {},
   "outputs": [
    {
     "data": {
      "text/plain": [
       "tensor(True)"
      ]
     },
     "execution_count": 129,
     "metadata": {},
     "output_type": "execute_result"
    }
   ],
   "source": [
    "a=torch.rand(3,4)\n",
    "b=torch.rand(4)\n",
    "c=a+b\n",
    "c.shape\n",
    "#out: [3,4]\n",
    "torch.all(torch.eq(a+b,torch.add(a,b)))\n",
    "torch.all(torch.eq(a-b,torch.sub(a,b)))\n",
    "torch.all(torch.eq(a*b,torch.mul(a,b)))\n",
    "torch.all(torch.eq(a/b,torch.div(a,b)))\n"
   ]
  },
  {
   "cell_type": "code",
   "execution_count": 130,
   "id": "5920debc",
   "metadata": {},
   "outputs": [
    {
     "data": {
      "text/plain": [
       "tensor([[6., 6.],\n",
       "        [6., 6.]])"
      ]
     },
     "execution_count": 130,
     "metadata": {},
     "output_type": "execute_result"
    }
   ],
   "source": [
    "a=torch.ones(2,2)\n",
    "b=a*3\n",
    "a@b"
   ]
  },
  {
   "cell_type": "code",
   "execution_count": 131,
   "id": "02ea6186",
   "metadata": {},
   "outputs": [
    {
     "data": {
      "text/plain": [
       "torch.Size([4, 3, 28, 32])"
      ]
     },
     "execution_count": 131,
     "metadata": {},
     "output_type": "execute_result"
    }
   ],
   "source": [
    "a=torch.rand(4,3,28,64)\n",
    "b=torch.rand(4,1,64,32)\n",
    "torch.matmul(a,b).shape"
   ]
  },
  {
   "cell_type": "code",
   "execution_count": 132,
   "id": "e55e2f81",
   "metadata": {},
   "outputs": [
    {
     "data": {
      "text/plain": [
       "tensor([[9, 9],\n",
       "        [9, 9]])"
      ]
     },
     "execution_count": 132,
     "metadata": {},
     "output_type": "execute_result"
    }
   ],
   "source": [
    "a=torch.full([2,2],3)\n",
    "a.pow(2)"
   ]
  },
  {
   "cell_type": "code",
   "execution_count": 133,
   "id": "b2a77f47",
   "metadata": {},
   "outputs": [
    {
     "data": {
      "text/plain": [
       "tensor([[1.4427, 1.4427],\n",
       "        [1.4427, 1.4427]])"
      ]
     },
     "execution_count": 133,
     "metadata": {},
     "output_type": "execute_result"
    }
   ],
   "source": [
    "a=torch.exp(torch.ones(2,2))\n",
    "torch.log2(a)"
   ]
  },
  {
   "cell_type": "code",
   "execution_count": 134,
   "id": "be86d61f",
   "metadata": {},
   "outputs": [
    {
     "data": {
      "text/plain": [
       "(tensor(3.), tensor(4.), tensor(3.), tensor(0.1400))"
      ]
     },
     "execution_count": 134,
     "metadata": {},
     "output_type": "execute_result"
    }
   ],
   "source": [
    "a=torch.tensor(3.14)\n",
    "a.floor(),a.ceil(),a.trunc(),a.frac()"
   ]
  },
  {
   "cell_type": "code",
   "execution_count": 135,
   "id": "8650cb12",
   "metadata": {},
   "outputs": [
    {
     "name": "stdout",
     "output_type": "stream",
     "text": [
      "tensor([[ 3.7864,  5.7644,  8.5572],\n",
      "        [ 6.7648, 14.7264,  7.2083]])\n"
     ]
    },
    {
     "data": {
      "text/plain": [
       "tensor([[ 3.7864,  5.7644,  8.5572],\n",
       "        [ 6.7648, 10.0000,  7.2083]])"
      ]
     },
     "execution_count": 135,
     "metadata": {},
     "output_type": "execute_result"
    }
   ],
   "source": [
    "grad=torch.rand(2,3)*15\n",
    "print(grad)\n",
    "# grad.max()\n",
    "# grad.median()\n",
    "# grad.clamp(10)\n",
    "grad.clamp(0,10)"
   ]
  },
  {
   "cell_type": "code",
   "execution_count": 136,
   "id": "afff6779",
   "metadata": {},
   "outputs": [
    {
     "name": "stdout",
     "output_type": "stream",
     "text": [
      "tensor([[1., 1., 1., 1.],\n",
      "        [1., 1., 1., 1.]])\n"
     ]
    },
    {
     "data": {
      "text/plain": [
       "tensor([2., 2.])"
      ]
     },
     "execution_count": 136,
     "metadata": {},
     "output_type": "execute_result"
    }
   ],
   "source": [
    "a=torch.full([8],1.)#8个1的向量\n",
    "b=a.view(2,4)\n",
    "c=a.view(2,2,2)\n",
    "print(b)\n",
    "a.norm(1),b.norm(1),c.norm(1) #1范数，就是所有矩阵元素绝对值的和，所以全输出8\n",
    "\n",
    "a.norm(2),b.norm(2),c.norm(2) #2范数，就是所有矩阵元素的绝对值的平方和开根号，所以全输出 根号8 =2.82\n",
    "\n",
    "b.norm(1,dim=1)#对第1维度的1范数\n",
    "b.norm(2,dim=1)#对第1维度的2范数"
   ]
  },
  {
   "cell_type": "code",
   "execution_count": 137,
   "id": "d030b88e",
   "metadata": {},
   "outputs": [
    {
     "data": {
      "text/plain": [
       "(tensor(0.), tensor(14.), tensor(7.), tensor(0.), tensor(56.))"
      ]
     },
     "execution_count": 137,
     "metadata": {},
     "output_type": "execute_result"
    }
   ],
   "source": [
    "a=torch.arange(8).view(2,4).float()*2\n",
    "a.min(),a.max(),a.mean(),a.prod(),a.sum()# 最小值、最大值、平均值和累乘值（因为有0所以是0）还有求和\n"
   ]
  },
  {
   "cell_type": "code",
   "execution_count": 138,
   "id": "65d7ac7c",
   "metadata": {},
   "outputs": [
    {
     "data": {
      "text/plain": [
       "(tensor([3, 3]), tensor([0, 0]))"
      ]
     },
     "execution_count": 138,
     "metadata": {},
     "output_type": "execute_result"
    }
   ],
   "source": [
    "a.argmax(),a.argmin()\n",
    "a.argmax(dim=1),a.argmin(dim=1)"
   ]
  },
  {
   "cell_type": "code",
   "execution_count": 139,
   "id": "7fc30977",
   "metadata": {},
   "outputs": [
    {
     "name": "stdout",
     "output_type": "stream",
     "text": [
      "tensor([[[0.8042, 0.2046, 0.0155, 0.0173],\n",
      "         [0.8587, 0.9446, 0.8441, 0.8173],\n",
      "         [0.0341, 0.1659, 0.4175, 0.5821]],\n",
      "\n",
      "        [[0.8190, 0.1308, 0.9884, 0.4505],\n",
      "         [0.8856, 0.5809, 0.8452, 0.1877],\n",
      "         [0.2887, 0.6354, 0.5857, 0.7234]],\n",
      "\n",
      "        [[0.8085, 0.6717, 0.2831, 0.1998],\n",
      "         [0.0333, 0.4126, 0.7528, 0.7036],\n",
      "         [0.0595, 0.7773, 0.7674, 0.0981]]])\n"
     ]
    },
    {
     "data": {
      "text/plain": [
       "tensor([[0, 1, 3],\n",
       "        [2, 0, 3],\n",
       "        [0, 2, 1]])"
      ]
     },
     "execution_count": 139,
     "metadata": {},
     "output_type": "execute_result"
    }
   ],
   "source": [
    "a=torch.rand(3,3,4)\n",
    "print(a)\n",
    "a.argmax(dim=2)"
   ]
  },
  {
   "cell_type": "code",
   "execution_count": 140,
   "id": "51d64d7d",
   "metadata": {},
   "outputs": [
    {
     "name": "stdout",
     "output_type": "stream",
     "text": [
      "torch.return_types.max(\n",
      "values=tensor([0.9437, 0.8481, 0.9842, 0.9469]),\n",
      "indices=tensor([9, 3, 9, 2]))\n",
      "torch.return_types.max(\n",
      "values=tensor([[0.9437],\n",
      "        [0.8481],\n",
      "        [0.9842],\n",
      "        [0.9469]]),\n",
      "indices=tensor([[9],\n",
      "        [3],\n",
      "        [9],\n",
      "        [2]]))\n"
     ]
    }
   ],
   "source": [
    "a=torch.rand(4,10)\n",
    "print(a.max(dim=1))\n",
    "print(a.max(dim=1,keepdim=True))"
   ]
  },
  {
   "cell_type": "code",
   "execution_count": 141,
   "id": "1284aec4",
   "metadata": {},
   "outputs": [
    {
     "data": {
      "text/plain": [
       "torch.return_types.topk(\n",
       "values=tensor([[0.8650, 0.8603, 0.8522, 0.7385, 0.6588],\n",
       "        [0.9116, 0.8802, 0.5688, 0.5148, 0.5053],\n",
       "        [0.9437, 0.8801, 0.8243, 0.6371, 0.5949],\n",
       "        [0.9504, 0.9059, 0.9051, 0.6418, 0.5841]]),\n",
       "indices=tensor([[4, 2, 7, 3, 9],\n",
       "        [0, 9, 6, 5, 3],\n",
       "        [2, 1, 7, 6, 8],\n",
       "        [4, 5, 7, 2, 1]]))"
      ]
     },
     "execution_count": 141,
     "metadata": {},
     "output_type": "execute_result"
    }
   ],
   "source": [
    "a=torch.rand(4,10)\n",
    "a.topk(5,dim=1)"
   ]
  },
  {
   "cell_type": "code",
   "execution_count": 142,
   "id": "46c39261",
   "metadata": {},
   "outputs": [
    {
     "data": {
      "text/plain": [
       "'torch.BoolTensor'"
      ]
     },
     "execution_count": 142,
     "metadata": {},
     "output_type": "execute_result"
    }
   ],
   "source": [
    "a=torch.rand(4,4)\n",
    "b=a>0.5\n",
    "b.type()"
   ]
  },
  {
   "cell_type": "code",
   "execution_count": 143,
   "id": "e8100928",
   "metadata": {},
   "outputs": [
    {
     "name": "stdout",
     "output_type": "stream",
     "text": [
      "tensor([[0.7952, 0.7491, 0.1997, 0.8538],\n",
      "        [0.4975, 0.0360, 0.0316, 0.8115],\n",
      "        [0.3345, 0.9763, 0.9498, 0.9617],\n",
      "        [0.5783, 0.6743, 0.6499, 0.7716]])\n"
     ]
    },
    {
     "data": {
      "text/plain": [
       "tensor([[1., 1., 0., 1.],\n",
       "        [0., 0., 0., 1.],\n",
       "        [0., 1., 1., 1.],\n",
       "        [1., 1., 1., 1.]])"
      ]
     },
     "execution_count": 143,
     "metadata": {},
     "output_type": "execute_result"
    }
   ],
   "source": [
    "a=torch.rand(4,4)\n",
    "print(a)\n",
    "a0=torch.zeros(4,4)\n",
    "a1=torch.ones(4,4)\n",
    "torch.where(a>0.5,a1,a0)#a满足条件取a1中的值，不满足条件取a2中的值\n"
   ]
  },
  {
   "cell_type": "code",
   "execution_count": 144,
   "id": "e43a3260",
   "metadata": {},
   "outputs": [
    {
     "name": "stdout",
     "output_type": "stream",
     "text": [
      "tensor([[1, 0, 6],\n",
      "        [4, 3, 2],\n",
      "        [2, 5, 7],\n",
      "        [5, 4, 2]])\n",
      "tensor([[33, 34, 35, 36, 37, 38, 39, 40, 41, 42],\n",
      "        [33, 34, 35, 36, 37, 38, 39, 40, 41, 42],\n",
      "        [33, 34, 35, 36, 37, 38, 39, 40, 41, 42],\n",
      "        [33, 34, 35, 36, 37, 38, 39, 40, 41, 42]])\n"
     ]
    },
    {
     "data": {
      "text/plain": [
       "tensor([[34, 33, 39],\n",
       "        [37, 36, 35],\n",
       "        [35, 38, 40],\n",
       "        [38, 37, 35]])"
      ]
     },
     "execution_count": 144,
     "metadata": {},
     "output_type": "execute_result"
    }
   ],
   "source": [
    "a=torch.rand(4,10)\n",
    "idx=a.topk(dim=1,k=3)\n",
    "idx=idx[1]\n",
    "print(idx)\n",
    "label=torch.arange(10)+33\n",
    "label=label.expand(4,10)\n",
    "print(label)\n",
    "torch.gather(label,dim=1,index=idx.long())"
   ]
  },
  {
   "cell_type": "code",
   "execution_count": 145,
   "id": "897b32c5",
   "metadata": {},
   "outputs": [],
   "source": [
    "import torch.nn.functional as F\n"
   ]
  },
  {
   "cell_type": "code",
   "execution_count": 150,
   "id": "38ca1d1b",
   "metadata": {},
   "outputs": [
    {
     "name": "stdout",
     "output_type": "stream",
     "text": [
      "x= tensor([1.])\n",
      "w= tensor([2.])\n",
      "MSE= tensor(1.)\n"
     ]
    },
    {
     "data": {
      "text/plain": [
       "(tensor([2.]),)"
      ]
     },
     "execution_count": 150,
     "metadata": {},
     "output_type": "execute_result"
    }
   ],
   "source": [
    "#下面要对y=xw这个函数进行回归运算，\n",
    "x=torch.ones(1)\n",
    "w=torch.full([1],2.)\n",
    "print(\"x=\",x)\n",
    "print(\"w=\",w)\n",
    "mse=F.mse_loss(torch.ones(1),x*w)\n",
    "print(\"MSE=\",mse)\n",
    "# torch.autograd.grad(mse,[w])\n",
    "w.requires_grad_()\n",
    "mse=F.mse_loss(torch.ones(1),x*w)\n",
    "torch.autograd.grad(mse,[w])"
   ]
  }
 ],
 "metadata": {
  "kernelspec": {
   "display_name": "pytorch_py3.9",
   "language": "python",
   "name": "python3"
  },
  "language_info": {
   "codemirror_mode": {
    "name": "ipython",
    "version": 3
   },
   "file_extension": ".py",
   "mimetype": "text/x-python",
   "name": "python",
   "nbconvert_exporter": "python",
   "pygments_lexer": "ipython3",
   "version": "3.9.0"
  },
  "vscode": {
   "interpreter": {
    "hash": "7f146e18ba53f74a03af9b0406c6ac00f6592912563981351e25d3b4260e6650"
   }
  }
 },
 "nbformat": 4,
 "nbformat_minor": 5
}
